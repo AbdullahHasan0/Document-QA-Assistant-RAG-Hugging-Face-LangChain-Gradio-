{
  "cells": [
    {
      "cell_type": "markdown",
      "metadata": {
        "id": "view-in-github",
        "colab_type": "text"
      },
      "source": [
        "<a href=\"https://colab.research.google.com/github/AbdullahHasan0/AI-Powered-PDF-Question-Answering-RAG-Pipeline-/blob/main/Resume_Builder.ipynb\" target=\"_parent\"><img src=\"https://colab.research.google.com/assets/colab-badge.svg\" alt=\"Open In Colab\"/></a>"
      ]
    },
    {
      "cell_type": "markdown",
      "source": [
        "# Resume Enhancer\n",
        "\n",
        "Important: OpenAI API Key Required\n",
        "\n",
        "This project uses OpenAI models for analyzing resumes and generating personalized cover letters.  \n",
        "When running on **Google Colab**, you need to provide your OpenAI API key."
      ],
      "metadata": {
        "id": "CkhdhMnbyzXZ"
      }
    },
    {
      "cell_type": "markdown",
      "metadata": {
        "id": "CCHff7vgggj2"
      },
      "source": [
        "# Install necessary libraries if running for the first time\n"
      ]
    },
    {
      "cell_type": "code",
      "execution_count": null,
      "metadata": {
        "id": "K6Da5T_Dggj5"
      },
      "outputs": [],
      "source": [
        "%pip install openai ipython pydantic PyPDF2\n"
      ]
    },
    {
      "cell_type": "code",
      "execution_count": null,
      "metadata": {
        "id": "eqxFDVsaggj8"
      },
      "outputs": [],
      "source": [
        "# Let's install and import Pydantic\n",
        "# In Pydantic, BaseModel is the core class that you use to create data models.\n",
        "# BaseModel is like a blueprint for structured data. It defines the fields, their types, and automatically gives you data validation and type conversion capabilities\n",
        "from pydantic import BaseModel\n",
        "\n",
        "# Importing other necessary libraries\n",
        "import os\n",
        "from openai import OpenAI  # Make sure you have the latest openai package (pip install --upgrade openai)\n",
        "import json\n",
        "\n",
        "from typing import List, Dict, Union, Optional, Any\n",
        "from IPython.display import display, Markdown\n",
        "\n",
        "from google.colab import userdata\n",
        "print(\"Libraries imported successfully!\")\n",
        "\n"
      ]
    },
    {
      "cell_type": "code",
      "execution_count": null,
      "metadata": {
        "id": "gL0pPKEDggj_"
      },
      "outputs": [],
      "source": [
        "\n",
        "\n",
        "# Fetch API keys from environment variables\n",
        "openai_api_key = userdata.get(\"OPENAI_API_KEY\")\n",
        "\n",
        "\n",
        "# Configure the APIs\n",
        "openai_client = OpenAI(api_key = openai_api_key)\n"
      ]
    },
    {
      "cell_type": "markdown",
      "metadata": {
        "id": "F-oZExPkggkA"
      },
      "source": [
        "# DEFINING THE LLM INPUTS INCLUDING RESUME AND TARGET JOB DESCRIPTION"
      ]
    },
    {
      "cell_type": "markdown",
      "metadata": {
        "id": "r4VGpan7ggkA"
      },
      "source": [
        "- We need to get the user's resume and the target job description.\n"
      ]
    },
    {
      "cell_type": "code",
      "execution_count": null,
      "metadata": {
        "id": "P5dY9iOaggkB"
      },
      "outputs": [],
      "source": [
        "# Helper function to display markdown nicely\n",
        "def print_markdown(text):\n",
        "    \"\"\"Displays text as Markdown.\"\"\"\n",
        "    display(Markdown(text))"
      ]
    },
    {
      "cell_type": "code",
      "execution_count": null,
      "metadata": {
        "id": "lQJp7GWHggkB"
      },
      "outputs": [],
      "source": [
        "from google.colab import files\n",
        "from PyPDF2 import PdfReader\n",
        "import os\n",
        "\n",
        "def pick_and_extract_pdf(save_to=\"store\"):\n",
        "    \"\"\"\n",
        "    Opens a file picker to upload a single PDF, extracts its text,\n",
        "    and saves it into a .txt file.\n",
        "\n",
        "    Args:\n",
        "        save_to (str): Folder to save extracted .txt file (default: 'store').\n",
        "\n",
        "    Returns:\n",
        "        str: Extracted text\n",
        "    \"\"\"\n",
        "    # File picker\n",
        "    uploaded = files.upload()\n",
        "    pdf_path = list(uploaded.keys())[0]\n",
        "\n",
        "    # Make sure output folder exists\n",
        "    if not os.path.exists(save_to):\n",
        "        os.makedirs(save_to)\n",
        "\n",
        "    # Read PDF\n",
        "    reader = PdfReader(pdf_path)\n",
        "    text = \"\"\n",
        "    for page in reader.pages:\n",
        "        text += page.extract_text() or \"\"\n",
        "\n",
        "    # Save text into a .txt file\n",
        "    filename = os.path.splitext(os.path.basename(pdf_path))[0] + \".txt\"\n",
        "    txt_path = os.path.join(save_to, filename)\n",
        "\n",
        "    with open(txt_path, \"w\", encoding=\"utf-8\") as f:\n",
        "        f.write(text)\n",
        "\n",
        "    print(f\"✅ Extracted and saved text to: {txt_path}\")\n",
        "\n",
        "    return text\n"
      ]
    },
    {
      "cell_type": "code",
      "source": [
        "import PyPDF2\n",
        "\n",
        "def extract_text_from_pdf(pdf_file_path: str) -> str:\n",
        "    text = \"\"\n",
        "    with open(pdf_file_path, \"rb\") as f:\n",
        "        reader = PyPDF2.PdfReader(f)\n",
        "        for page in reader.pages:\n",
        "            text += page.extract_text() or \"\"\n",
        "    return text.strip()\n"
      ],
      "metadata": {
        "id": "6FQofICUwOgP"
      },
      "execution_count": null,
      "outputs": []
    },
    {
      "cell_type": "code",
      "source": [
        "resume_text = pick_and_extract_pdf()"
      ],
      "metadata": {
        "id": "w_dj5imYiHAz"
      },
      "execution_count": null,
      "outputs": []
    },
    {
      "cell_type": "code",
      "execution_count": null,
      "metadata": {
        "id": "iVOiArnBggkE"
      },
      "outputs": [],
      "source": [
        "# Let's define a sample job description text\n",
        "job_description_text = \"\"\"\n",
        "We are looking for a motivated and enthusiastic AI/ML Intern to join our team and work on cutting-edge projects. This is an excellent opportunity to apply your skills in machine learning, data science, and programming to solve real-world challenges.\n",
        "\n",
        "Key Responsibilities:\n",
        "\n",
        "Work with the team to design and improve machine learning models for specific projects.\n",
        "Clean and prepare data for analysis and model training.\n",
        "Explore and test new machine learning techniques to make models more accurate and efficient.\n",
        "Help deploy and test models in environments similar to production.\n",
        "Collaborate with software engineers to integrate models into existing systems.\n",
        "Stay updated on new AI and machine learning tools and trends\n",
        " Keep detailed records of processes, findings, models, and performance for future reference.\n",
        "\n",
        "\n",
        "Requirements:\n",
        "\n",
        "A degree in Computer Science, Data Science, or a related field is required.\n",
        "Good understanding of machine learning algorithms like regression, classification, and clustering.\n",
        "Proficient in Python and libraries\n",
        "Familiar with cloud platforms like AWS, Google Cloud, or Azure.\n",
        "Knowledge of NLP or computer vision is a plus.\n",
        "Comfortable with version control systems, particularly Git.\n",
        "\n",
        "\n",
        "What We Offer:\n",
        "\n",
        "A supportive environment with mentorship opportunities to grow your skills.\n",
        "Opportunities to work on impactful projects and contribute to innovative products.\n",
        "Access to learning resources and professional development.\n",
        "\"\"\""
      ]
    },
    {
      "cell_type": "code",
      "execution_count": null,
      "metadata": {
        "id": "vYV-WT9zggkF"
      },
      "outputs": [],
      "source": [
        "# Let's display the original resume\n",
        "print_markdown(\"**--- Original Resume ---**\")\n",
        "print_markdown(resume_text)"
      ]
    },
    {
      "cell_type": "code",
      "execution_count": null,
      "metadata": {
        "id": "_cTZmZzYggkG"
      },
      "outputs": [],
      "source": [
        "# Let's display the target job desciption\n",
        "print_markdown(\"\\n**--- Target Job Description ---**\")\n",
        "print_markdown(job_description_text)"
      ]
    },
    {
      "cell_type": "markdown",
      "metadata": {
        "id": "rnQkn5t0ggkH"
      },
      "source": [
        "# ENHANCING THE RESUME WITH OPENAI API"
      ]
    },
    {
      "cell_type": "markdown",
      "metadata": {
        "id": "Vpkzp3GDggkH"
      },
      "source": [
        "Now that we have our resume and job description, let's use the OpenAI API to improve the resume to better match the job requirements. We'll make a call to the text generation API and ask it to enhance our resume.\n"
      ]
    },
    {
      "cell_type": "code",
      "execution_count": null,
      "metadata": {
        "id": "4tan1sfsggkI"
      },
      "outputs": [],
      "source": [
        "def openai_generate(prompt: str,\n",
        "                    model: str = \"gpt-4o-mini\",\n",
        "                    temperature: float = 0.7,\n",
        "                    max_tokens: int = 1500,\n",
        "                    response_format: Optional[dict] = None) -> str | dict:\n",
        "    \"\"\"\n",
        "    Generate text using OpenAI API\n",
        "\n",
        "    This function sends a prompt to OpenAI's API and returns the generated response.\n",
        "    It supports both standard text generation and structured parsing with response_format.\n",
        "\n",
        "    Args:\n",
        "        prompt (str): The prompt to send to the model, i.e.: your instructions for the AI\n",
        "        model (str): The OpenAI model to use (default: \"gpt-4o-mini\")\n",
        "        temperature (float): Controls randomness, where lower values make output more deterministic\n",
        "        max_tokens (int): Maximum number of tokens to generate, which limits the response length\n",
        "        response_format (dict): Optional format specification\n",
        "        In simple terms, response_format is optional. If the user gives me a dictionary, cool!\n",
        "        If they don't give me anything, just assume it's None and keep going.\"\n",
        "\n",
        "    Returns:\n",
        "        str or dict: The generated text or parsed structured data, depending on response_format\n",
        "    \"\"\"\n",
        "\n",
        "\n",
        "    try:\n",
        "        # Standard text generation without a specific response format\n",
        "        if not response_format:\n",
        "            response = openai_client.chat.completions.create(\n",
        "                model = model,\n",
        "                messages = [\n",
        "                    {\"role\": \"system\",\n",
        "                     \"content\": \"You are a helpful assistant specializing in resume writing and career advice.\",\n",
        "                    },\n",
        "                    {\"role\": \"user\", \"content\": prompt}],\n",
        "                temperature = temperature,\n",
        "                max_tokens = max_tokens)\n",
        "\n",
        "            # Extract just the text content from the response\n",
        "            return response.choices[0].message.content\n",
        "\n",
        "        # Structured response generation (e.g., JSON format)\n",
        "        else:\n",
        "            completion = openai_client.beta.chat.completions.parse(\n",
        "                model = model,  # Make sure to use a model that supports parse\n",
        "                messages = [\n",
        "                    # Same system and user messages as above\n",
        "                    {\n",
        "                        \"role\": \"system\",\n",
        "                        \"content\": \"You are a helpful assistant specializing in resume writing and career advice.\",\n",
        "                    },\n",
        "                    {\"role\": \"user\", \"content\": prompt},\n",
        "                ],\n",
        "                temperature = temperature,\n",
        "                response_format = response_format)\n",
        "\n",
        "            # Return the parsed structured output\n",
        "            return completion.choices[0].message.parsed\n",
        "\n",
        "    except Exception as e:\n",
        "        # Error handling to prevent crashes\n",
        "        return f\"Error generating text: {e}\"\n"
      ]
    },
    {
      "cell_type": "code",
      "execution_count": null,
      "metadata": {
        "id": "79GBJkTDggkJ"
      },
      "outputs": [],
      "source": [
        "prompt = f\"\"\"\n",
        "Context:\n",
        "You are a professional resume writer helping a candidate tailor their resume for a specific job opportunity. The resume and job description are provided below.\n",
        "\n",
        "Instruction:\n",
        "Enhance the resume to make it more impactful. Focus on:\n",
        "- Highlighting relevant skills and achievements.\n",
        "- Using strong action verbs and quantifiable results where possible.\n",
        "- Rewriting vague or generic bullet points to be specific and results-driven.\n",
        "- Emphasizing experience and skills most relevant to the job description.\n",
        "- Reorganizing sections if necessary to better match the job requirements.\n",
        "\n",
        "Resume:\n",
        "{resume_text}\n",
        "\n",
        "Output:\n",
        "Provide a revised and improved version of the resume that is well-formatted. Only return the updated resume.\n",
        "\"\"\"\n"
      ]
    },
    {
      "cell_type": "code",
      "execution_count": null,
      "metadata": {
        "id": "IfHDGCJ1ggkJ"
      },
      "outputs": [],
      "source": [
        "# Get response from OpenAI API\n",
        "openai_output = openai_generate(prompt, temperature = 0.7)\n",
        "\n",
        "# Display the results\n",
        "print_markdown(\"#### OpenAI Response:\")\n",
        "print_markdown(openai_output)"
      ]
    },
    {
      "cell_type": "markdown",
      "metadata": {
        "id": "RJBaSHBcggkL"
      },
      "source": [
        "# PERFORMING A GAP ANALYSIS BETWEEN RESUME & JOB DESCRIPTION"
      ]
    },
    {
      "cell_type": "markdown",
      "metadata": {
        "id": "Kuyy3H4CggkL"
      },
      "source": [
        "Now, let's use an LLM to analyze the resume and job description. We want the AI to identify:\n",
        "1.  Key skills/requirements mentioned in the Job Description.\n",
        "2.  Relevant skills/experience present in the Resume.\n",
        "3.  Crucially, the mismatches or gaps – what the job asks for that the resume doesn't highlight well.\n",
        "\n",
        "We'll use OpenAI for this analysis step. We need to craft a clear prompt."
      ]
    },
    {
      "cell_type": "code",
      "execution_count": null,
      "metadata": {
        "id": "OzfWEgvQggkN"
      },
      "outputs": [],
      "source": [
        "# Prompt to analyze the resume against the job description\n",
        "\n",
        "def analyze_resume_against_job_description(job_description_text: str, resume_text: str, model: str = \"openai\") -> str:\n",
        "    \"\"\"\n",
        "    Analyze the resume against the job description and return a structured comparison.\n",
        "\n",
        "    Args:\n",
        "        job_description_text (str): The job description text.\n",
        "        resume_text (str): The candidate's resume text.\n",
        "        model (str): The model to use for analysis (\"openai\" or \"gemini\").\n",
        "\n",
        "    Returns:\n",
        "        str: A clear, structured comparison of the resume and job description.\n",
        "    \"\"\"\n",
        "    # This prompt instructs the AI to act as a career advisor and analyze how well the resume matches the job description\n",
        "    # It asks for a structured analysis with 4 specific sections: requirements, matches, gaps, and strengths\n",
        "    prompt = f\"\"\"\n",
        "    Context:\n",
        "    You are a career advisor and resume expert. Your task is to analyze a candidate's resume against a specific job description to assess alignment and identify areas for improvement.\n",
        "\n",
        "    Instruction:\n",
        "    Review the provided Job Description and Resume. Identify key skills, experiences, and qualifications in the Job Description and compare them to what's present in the Resume. Provide a structured analysis with the following sections:\n",
        "    1. **Key Requirements from Job Description:** List the main skills, experiences, and qualifications sought by the employer.\n",
        "    2. **Relevant Experience in Resume:** List the skills and experiences from the resume that match or align closely with the job requirements.\n",
        "    3. **Gaps/Mismatches:** Identify important skills or qualifications from the Job Description that are missing, unclear, or underrepresented in the Resume.\n",
        "    4. **Potential Strengths:** Highlight any valuable skills, experiences, or accomplishments in the resume that are not explicitly requested in the job description but could strengthen the application.\n",
        "\n",
        "    Job Description:\n",
        "\n",
        "    {job_description_text}\n",
        "\n",
        "    Resume:\n",
        "\n",
        "    {resume_text}\n",
        "\n",
        "    Output:\n",
        "    Return a clear, structured comparison with the four sections outlined above.\n",
        "    \"\"\"\n",
        "\n",
        "    # This conditional block selects which AI model to use based on the 'model' parameter\n",
        "    if model == \"openai\":\n",
        "        # Uses OpenAI's model to generate the gap analysis with moderate creativity (temperature=0.7)\n",
        "        gap_analysis = openai_generate(prompt, temperature=0.7)\n",
        "    elif model == \"gemini\":\n",
        "        # Uses Google's Gemini model with less creativity (temperature=0.5) for more focused results\n",
        "        gap_analysis = gemini_generate(prompt, temperature=0.5)\n",
        "    else:\n",
        "        # Raises an error if an invalid model name is provided\n",
        "        raise ValueError(f\"Invalid model: {model}\")\n",
        "\n",
        "    # Returns the generated gap analysis text\n",
        "    return gap_analysis\n",
        "\n"
      ]
    },
    {
      "cell_type": "code",
      "execution_count": null,
      "metadata": {
        "id": "2IgArFsyggkO"
      },
      "outputs": [],
      "source": [
        "# Call the function to analyze the resume against the job description using OpenAI\n",
        "gap_analysis_openai = analyze_resume_against_job_description(job_description_text,\n",
        "                                                             resume_text,\n",
        "                                                             model = \"openai\")\n",
        "\n",
        "# Displays the analysis results in Markdown format\n",
        "print_markdown(\"#### OpenAI Response:\")\n",
        "print_markdown(gap_analysis_openai)"
      ]
    },
    {
      "cell_type": "markdown",
      "metadata": {
        "id": "SQtIZhvoggkP"
      },
      "source": [
        "# DRAFTING A NEW TAILORED RESUME BY AI WITH CHANGE TRACKING (WITH PYDANTIC)"
      ]
    },
    {
      "cell_type": "markdown",
      "metadata": {
        "id": "S9mOnByhggkQ"
      },
      "source": [
        "Now, we'll use the insights gained (analysis and suggestions) to generate a completely rewritten, tailored resume using OpenAI. A key enhancement here is to ask the AI not just to list the changes, but to try and identify which sections or areas of the resume were modified. This helps the user quickly see the impact of the tailoring.\n",
        "\n",
        "We'll ask the AI for two outputs:\n",
        "1.  The full text of the tailored resume.\n",
        "2.  A structured list (using Markdown) describing the key changes and where they were made (e.g., Summary, Experience section, Skills)."
      ]
    },
    {
      "cell_type": "code",
      "execution_count": null,
      "metadata": {
        "id": "NoCbz91mggkQ"
      },
      "outputs": [],
      "source": [
        "# Define Pydantic models for structured output\n",
        "# The ResumeOutput class is a Pydantic model that defines the structure of the output\n",
        "# for the resume generation function. It includes two fields:\n",
        "# (1) updated_resume: A string that contains the final rewritten resume.\n",
        "# (2) diff_markdown: A string containing the resume's HTML-coloured version highlighting additions and deletions.\n",
        "\n",
        "class ResumeOutput(BaseModel):\n",
        "    updated_resume: str\n",
        "    diff_markdown: str\n",
        "\n",
        "\n",
        "def generate_resume(\n",
        "    job_description_text: str, resume_text: str, gap_analysis_openai: str, model: str = \"openai\") -> dict:\n",
        "    \"\"\"\n",
        "    Generate a tailored resume using OpenAI or Gemini.\n",
        "\n",
        "    Args:\n",
        "        job_description_text (str): The job description text.\n",
        "        resume_text (str): The candidate's resume text.\n",
        "        gap_analysis_openai (str): The gap analysis result from OpenAI.\n",
        "        model (str): The model to use for resume generation.\n",
        "\n",
        "    Returns:\n",
        "        dict: A dictionary containing the updated resume and diff markdown.\n",
        "    \"\"\"\n",
        "    # Construct the prompt for the AI model to generate the tailored resume.\n",
        "    # The prompt includes context, instructions, and input data (original resume,\n",
        "    # target job description, and gap analysis).\n",
        "    prompt = (\n",
        "        \"\"\"\n",
        "    ### Context:\n",
        "    You are an expert resume writer and editor. Your goal is to rewrite the original resume to match the target job description, using the provided tailoring suggestions and analysis.\n",
        "\n",
        "    ---\n",
        "\n",
        "    ### Instruction:\n",
        "    1. Rewrite the entire resume to best match the **Target Job Description** and **Gap Analysis to the Job Description**.\n",
        "    2. Improve clarity, add job-relevant keywords, and quantify achievements.\n",
        "    3. Specifically address the gaps identified in the analysis by:\n",
        "       - Adding missing skills and technologies mentioned in the job description\n",
        "       - Reframing experience to highlight relevant accomplishments\n",
        "       - Strengthening sections that were identified as weak in the analysis\n",
        "    4. Prioritize addressing the most critical gaps first\n",
        "    5. Incorporate industry-specific terminology from the job description\n",
        "    6. Ensure all quantifiable achievements are properly highlighted with metrics\n",
        "    7. Return two versions of the resume:\n",
        "        - `updated_resume`: The final rewritten resume (as plain text)\n",
        "        - `diff_html`: A version of the resume with inline highlights using color:\n",
        "            - Additions or rewritten content should be **green**:\n",
        "            `<span style=\"color:green\">your added or changed text</span>`\n",
        "            - Removed content should be **red and struck through**:\n",
        "            `<span style=\"color:red;text-decoration:line-through\">removed text</span>`\n",
        "            - Leave unchanged lines unmarked.\n",
        "        - Keep all section headers and formatting consistent with the original resume.\n",
        "\n",
        "    ---\n",
        "\n",
        "    ### Output Format:\n",
        "\n",
        "    ```json\n",
        "    {\n",
        "    \"updated_resume\": \"<full rewritten resume as plain text>\",\n",
        "    \"diff_markdown\": \"<HTML-colored version of the resume highlighting additions and deletions>\"\n",
        "    }\n",
        "    ```\n",
        "    ---\n",
        "    ### Input:\n",
        "\n",
        "    **Original Resume:**\n",
        "\n",
        "    \"\"\"\n",
        "        + resume_text\n",
        "        + \"\"\"\n",
        "\n",
        "\n",
        "    **Target Job Description:**\n",
        "\n",
        "    \"\"\"\n",
        "        + job_description_text\n",
        "        + \"\"\"\n",
        "\n",
        "\n",
        "    **Analysis of Resume vs. Job Description:**\n",
        "\n",
        "    \"\"\"\n",
        "        + gap_analysis_openai\n",
        "    )\n",
        "\n",
        "    # Depending on the selected model, call the appropriate function to generate the resume.\n",
        "    # If the OpenAI model is selected, it uses a temperature of 0.7 for creativity.\n",
        "    if model == \"openai\":\n",
        "        updated_resume_json = openai_generate(prompt, temperature = 0.7, response_format = ResumeOutput)\n",
        "    # If the Gemini model is selected, it uses a lower temperature of 0.5 for more focused results.\n",
        "    elif model == \"gemini\":\n",
        "        updated_resume_json = gemini_generate(prompt, temperature = 0.5)\n",
        "    else:\n",
        "        # Raise an error if an invalid model name is provided.\n",
        "        raise ValueError(f\"Invalid model: {model}\")\n",
        "\n",
        "    # Return the generated resume output as a dictionary.\n",
        "    return updated_resume_json\n"
      ]
    },
    {
      "cell_type": "code",
      "execution_count": null,
      "metadata": {
        "id": "KQgNlADaggkR"
      },
      "outputs": [],
      "source": [
        "# Call the generate_resume function with the provided job description, resume text, and gap analysis.\n",
        "updated_resume_json = generate_resume(job_description_text, resume_text, gap_analysis_openai, model=\"openai\")\n",
        "# Display the updated resume in Markdown format.\n",
        "print_markdown(updated_resume_json.updated_resume)"
      ]
    },
    {
      "cell_type": "code",
      "execution_count": null,
      "metadata": {
        "id": "ikik2MlMggkS"
      },
      "outputs": [],
      "source": [
        "print_markdown(updated_resume_json.diff_markdown)"
      ]
    },
    {
      "cell_type": "markdown",
      "metadata": {
        "id": "FLTWfmniggkS"
      },
      "source": [
        "# GENERATING A CUSTOM COVER LETTER"
      ]
    },
    {
      "cell_type": "markdown",
      "metadata": {
        "id": "32SA7ha7ggkT"
      },
      "source": [
        "With the newly tailored resume, let's generate a corresponding cover letter.\n",
        "We'll use OpenAI, feeding it the tailored resume (from the previous task) and the original job description. This ensures the cover letter highlights the most relevant points from the improved resume."
      ]
    },
    {
      "cell_type": "code",
      "execution_count": null,
      "metadata": {
        "id": "XNfF8XDBggkT"
      },
      "outputs": [],
      "source": [
        "# Define Pydantic models for structured output\n",
        "# The CoverLetterOutput class is a Pydantic model that defines the structure of the output for the cover letter generation.\n",
        "# It ensures that the output will contain a single field, 'cover_letter', which is a string.\n",
        "\n",
        "class CoverLetterOutput(BaseModel):\n",
        "    cover_letter: str\n",
        "\n",
        "# The generate_cover_letter function creates a cover letter based on the provided job description and updated resume.\n",
        "# It takes three parameters:\n",
        "# (1) job_description_text: A string containing the job description for the position.\n",
        "# (2) updated_resume: A string containing the candidate's updated resume.\n",
        "# (3) model: A string indicating which model to use for generating the cover letter (default is \"openai\").\n",
        "# The function returns a dictionary containing the generated cover letter.\n",
        "\n",
        "def generate_cover_letter(job_description_text: str, updated_resume: str, model: str = \"openai\") -> dict:\n",
        "    \"\"\"\n",
        "    Generate a cover letter using OpenAI or Gemini.\n",
        "\n",
        "    Args:\n",
        "        job_description_text (str): The job description text.\n",
        "        updated_resume (str): The candidate's updated resume text.\n",
        "        model (str): The model to use for cover letter generation.\n",
        "\n",
        "    Returns:\n",
        "        dict: A dictionary containing the cover letter.\n",
        "    \"\"\"\n",
        "\n",
        "    # Construct the prompt for the AI model, including context and instructions for writing the cover letter.\n",
        "    prompt = (\n",
        "        \"\"\"\n",
        "    ### Context:\n",
        "    You are a professional career coach and expert cover letter writer.\n",
        "\n",
        "    ---\n",
        "\n",
        "    ### Instruction:\n",
        "    Write a compelling, personalized cover letter based on the **Updated Resume** and the **Target Job Description**. The letter should:\n",
        "    1. Be addressed generically (e.g., \"Dear Hiring Manager\")\n",
        "    2. Be no longer than 4 paragraphs\n",
        "    3. Highlight key achievements and experiences from the updated resume\n",
        "    4. Align with the responsibilities and qualifications in the job description\n",
        "    5. Reflect the applicant's enthusiasm and fit for the role\n",
        "    6. End with a confident and polite closing statement\n",
        "\n",
        "    ---\n",
        "\n",
        "    ### Output Format (JSON):\n",
        "    ```json\n",
        "    {\n",
        "    \"cover_letter\": \"<final cover letter text>\"\n",
        "    }\n",
        "    ```\n",
        "    ---\n",
        "\n",
        "    ### Input:\n",
        "\n",
        "    **Updated Resume:**\n",
        "\n",
        "    \"\"\"\n",
        "        + updated_resume\n",
        "        + \"\"\"\n",
        "    **Target Job Description:**\n",
        "\n",
        "    \"\"\"\n",
        "        + job_description_text\n",
        "    )\n",
        "\n",
        "    # Depending on the selected model, call the appropriate function to generate the cover letter.\n",
        "    if model == \"openai\":\n",
        "        # Get response from OpenAI API\n",
        "        updated_cover_letter = openai_generate(prompt, temperature=0.7, response_format=CoverLetterOutput)\n",
        "    elif model == \"gemini\":\n",
        "        # Get response from Gemini API\n",
        "        updated_cover_letter = gemini_generate(prompt, temperature=0.5)\n",
        "    else:\n",
        "        # Raise an error if an invalid model name is provided.\n",
        "        raise ValueError(f\"Invalid model: {model}\")\n",
        "\n",
        "    # Return the generated cover letter as a dictionary.\n",
        "    return updated_cover_letter\n"
      ]
    },
    {
      "cell_type": "code",
      "execution_count": null,
      "metadata": {
        "id": "2lPLjee9ggkV"
      },
      "outputs": [],
      "source": [
        "# Call the generate_cover_letter function with the provided job description and updated resume.\n",
        "updated_cover_letter = generate_cover_letter(job_description_text, updated_resume_json.updated_resume, model=\"openai\")\n",
        "\n",
        "# Display the generated cover letter in Markdown format.\n",
        "print_markdown(updated_cover_letter.cover_letter)"
      ]
    },
    {
      "cell_type": "markdown",
      "metadata": {
        "id": "IXsEWk4gggkX"
      },
      "source": [
        "# UNIFIENING RESUME AND COVER LETTER GENERATION FUNCTION"
      ]
    },
    {
      "cell_type": "markdown",
      "metadata": {
        "id": "ZeAoD19PggkY"
      },
      "source": [
        "Now that we have all the building blocks, let's create a single function, `run_resume_rocket`, that takes the original resume and job description text and performs the entire workflow: gap analysis, resume tailoring with diff tracking, and cover letter generation. This makes the tool much easier to reuse."
      ]
    },
    {
      "cell_type": "code",
      "execution_count": null,
      "metadata": {
        "id": "EhhZd3svggkZ"
      },
      "outputs": [],
      "source": [
        "\n",
        "\n",
        "def run_resume_rocket(resume, job_description_text: str) -> tuple[str, str]:\n",
        "    \"\"\"\n",
        "    Run the resume rocket workflow.\n",
        "\n",
        "    Args:\n",
        "        resume_text (str): The candidate's resume text.\n",
        "        job_description_text (str): The job description text.\n",
        "\n",
        "    Returns:\n",
        "        tuple: A tuple containing the updated resume and cover letter.\n",
        "    \"\"\"\n",
        "\n",
        "    # --- Validation: Both inputs required ---\n",
        "    if resume is None:\n",
        "        return \"⚠️ Please upload a resume file.\", \"\"\n",
        "    if not job_description_text.strip():\n",
        "        return \"\", \"⚠️ Please paste the job description.\"\n",
        "\n",
        "\n",
        "\n",
        "    # Analyze the candidate's resume against the job description using OpenAI's model.\n",
        "    # This function will return a structured analysis highlighting gaps and strengths.\n",
        "\n",
        "\n",
        "\n",
        "     # Detect file type\n",
        "    file_path = resume.name\n",
        "    if file_path.endswith(\".pdf\"):\n",
        "        resume_text = extract_text_from_pdf(file_path)\n",
        "    else:\n",
        "        # fallback for txt or unknown\n",
        "        with open(file_path, \"r\", encoding=\"utf-8\") as f:\n",
        "            resume_text = f.read()\n",
        "\n",
        "\n",
        "    gap_analysis_openai = analyze_resume_against_job_description(job_description_text,\n",
        "                                                                 resume_text,\n",
        "                                                                 model=\"openai\")\n",
        "\n",
        "    # Display the gap analysis results in Markdown format for better readability.\n",
        "    print_markdown(gap_analysis_openai)\n",
        "\n",
        "    # Print separators for clarity in the output.\n",
        "    print(\"\\n--------------------------------\")\n",
        "    print(\"--------------------------------\\n\")\n",
        "\n",
        "    # Generate an updated resume based on the job description, original resume, and gap analysis.\n",
        "    # This function will return a JSON-like object containing the updated resume and a diff markdown.\n",
        "    updated_resume_json = generate_resume(job_description_text,\n",
        "                                          resume_text,\n",
        "                                          gap_analysis_openai,\n",
        "                                          model = \"openai\")\n",
        "\n",
        "    # Display the diff markdown which shows the changes made to the resume.\n",
        "    print_markdown(updated_resume_json.diff_markdown)\n",
        "\n",
        "    # Print separators for clarity in the output.\n",
        "    print(\"\\n--------------------------------\")\n",
        "    print(\"--------------------------------\\n\")\n",
        "\n",
        "    # Display the updated resume in Markdown format.\n",
        "    print_markdown(updated_resume_json.updated_resume)\n",
        "\n",
        "    # Print separators for clarity in the output.\n",
        "    print(\"\\n--------------------------------\")\n",
        "    print(\"--------------------------------\\n\")\n",
        "\n",
        "    # Generate a cover letter based on the job description and the updated resume.\n",
        "    # This function will return the generated cover letter.\n",
        "    updated_cover_letter = generate_cover_letter(\n",
        "        job_description_text, updated_resume_json.updated_resume, model=\"openai\"\n",
        "    )\n",
        "\n",
        "    # Display the generated cover letter in Markdown format.\n",
        "    print_markdown(updated_cover_letter.cover_letter)\n",
        "\n",
        "    # Print separators for clarity in the output.\n",
        "    print(\"\\n--------------------------------\")\n",
        "    print(\"--------------------------------\\n\")\n",
        "\n",
        "    # Return the updated resume and the generated cover letter as a tuple.\n",
        "    return updated_resume_json.updated_resume, updated_cover_letter.cover_letter\n",
        "\n"
      ]
    },
    {
      "cell_type": "code",
      "execution_count": null,
      "metadata": {
        "id": "QBxLK-RJggka"
      },
      "outputs": [],
      "source": [
        "# # Call the run_resume_rocket function with the provided resume and job description texts.\n",
        "# resume, cover_letter = run_resume_rocket(resume_text, job_description_text)"
      ]
    },
    {
      "cell_type": "markdown",
      "source": [
        "# Making Gradio App"
      ],
      "metadata": {
        "id": "qqlsotUOq4wk"
      }
    },
    {
      "cell_type": "code",
      "source": [
        "import gradio as gr\n",
        "\n",
        "with gr.Blocks(theme=gr.themes.Ocean()) as demo:\n",
        "    gr.Markdown(\"# Resume Maker\")\n",
        "\n",
        "    with gr.Row():\n",
        "        with gr.Column(scale=1):\n",
        "            gr.Markdown(\"### Upload Resume & Job Description\\nGet an **Updated Resume** and a **Personalized Cover Letter**\")\n",
        "\n",
        "            resume_upload = gr.File(label=\"Upload Resume\", file_types=[\".pdf\", \".docx\", \".txt\"])\n",
        "            job_desc = gr.TextArea(label=\"Paste Job Description Here\", lines=5, placeholder=\"Paste the job description...\")\n",
        "\n",
        "            generate_btn = gr.Button(\"Generate\")\n",
        "\n",
        "        with gr.Column(scale=1):\n",
        "            updated_resume = gr.Textbox(label=\"Updated Resume\", lines=15, interactive=False)\n",
        "            cover_letter = gr.Textbox(label=\"Cover Letter\", lines=15, interactive=False)\n",
        "\n",
        "    generate_btn.click(\n",
        "        fn=run_resume_rocket,\n",
        "        inputs=[resume_upload, job_desc],\n",
        "        outputs=[updated_resume, cover_letter]\n",
        "    )\n",
        "\n",
        "demo.launch()"
      ],
      "metadata": {
        "id": "er2Rjy3nq6hl"
      },
      "execution_count": null,
      "outputs": []
    }
  ],
  "metadata": {
    "kernelspec": {
      "display_name": "Python 3",
      "language": "python",
      "name": "python3"
    },
    "language_info": {
      "codemirror_mode": {
        "name": "ipython",
        "version": 3
      },
      "file_extension": ".py",
      "mimetype": "text/x-python",
      "name": "python",
      "nbconvert_exporter": "python",
      "pygments_lexer": "ipython3",
      "version": "3.12.2"
    },
    "colab": {
      "provenance": [],
      "include_colab_link": true
    }
  },
  "nbformat": 4,
  "nbformat_minor": 0
}